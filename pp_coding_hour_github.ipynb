{
  "nbformat": 4,
  "nbformat_minor": 0,
  "metadata": {
    "colab": {
      "provenance": []
    },
    "kernelspec": {
      "name": "python3",
      "display_name": "Python 3"
    },
    "language_info": {
      "name": "python"
    }
  },
  "cells": [
    {
      "cell_type": "code",
      "source": [
        "#1.\n",
        " whatIf=\"The world ends today\"\n",
        "print(len(whatIf)-len(\"NOT AT ALL\"))\n",
        "\n"
      ],
      "metadata": {
        "colab": {
          "base_uri": "https://localhost:8080/"
        },
        "id": "MyUlHOcD-p4J",
        "outputId": "bfdf0524-8792-498c-b289-35f08302795f"
      },
      "execution_count": 1,
      "outputs": [
        {
          "output_type": "stream",
          "name": "stdout",
          "text": [
            "10\n"
          ]
        }
      ]
    },
    {
      "cell_type": "code",
      "source": [
        "#2.\n",
        "m=[\"Dune\",\"Jaws\",\"vp\",\"Titanic\",\"Ratatouille\"]\n",
        "print(m[-2][3]+m[-1][-1]+m[-1][-4]+m[4][-6]+m[-5][1])\n",
        ""
      ],
      "metadata": {
        "colab": {
          "base_uri": "https://localhost:8080/"
        },
        "id": "B8PZ7fph-uDP",
        "outputId": "7dc73481-c7aa-4120-b52c-687621a7d694"
      },
      "execution_count": 2,
      "outputs": [
        {
          "output_type": "stream",
          "name": "stdout",
          "text": [
            "aeiou\n"
          ]
        }
      ]
    },
    {
      "cell_type": "code",
      "source": [
        "#3.\n",
        "strength={\"IT\":70,\"ECE\":65,\"EEE\":75,\"AIML\":50}\n",
        "strength.update({\"CSE\":64})\n",
        "print(strength)\n",
        ""
      ],
      "metadata": {
        "colab": {
          "base_uri": "https://localhost:8080/"
        },
        "id": "tRMtkKy0-5Hk",
        "outputId": "9a88cc78-9e00-4248-b450-5591c425c6e5"
      },
      "execution_count": 3,
      "outputs": [
        {
          "output_type": "stream",
          "name": "stdout",
          "text": [
            "{'IT': 70, 'ECE': 65, 'EEE': 75, 'AIML': 50, 'CSE': 64}\n"
          ]
        }
      ]
    },
    {
      "cell_type": "code",
      "source": [
        "#4.\n",
        "event=\"Easter at April 20\"\n",
        "L=event.split(\" \")\n",
        "print(\"#\".join(L[::-2]))\n",
        ""
      ],
      "metadata": {
        "colab": {
          "base_uri": "https://localhost:8080/"
        },
        "id": "HgjvXgrR-89u",
        "outputId": "859f5889-dea8-4f96-b983-c7f1dd2a5049"
      },
      "execution_count": 4,
      "outputs": [
        {
          "output_type": "stream",
          "name": "stdout",
          "text": [
            "20#at\n"
          ]
        }
      ]
    },
    {
      "cell_type": "code",
      "source": [
        "#5.\n",
        "name=\"college of engineering\"\n",
        "print(name[8:11]+\"cyc\"+name[3]+name[-3:])"
      ],
      "metadata": {
        "colab": {
          "base_uri": "https://localhost:8080/"
        },
        "id": "n0qaj0gL_Auv",
        "outputId": "6fb976a5-0e83-4786-e3b3-f8a5d42b0d5c"
      },
      "execution_count": 5,
      "outputs": [
        {
          "output_type": "stream",
          "name": "stdout",
          "text": [
            "of cycling\n"
          ]
        }
      ]
    },
    {
      "cell_type": "code",
      "source": [
        "#6.\n",
        "print(float(5+int(4.39+2.1)%2))"
      ],
      "metadata": {
        "colab": {
          "base_uri": "https://localhost:8080/"
        },
        "id": "-QYNKyuu_FhW",
        "outputId": "390555f7-cbf7-465c-d1f0-f07c9966fc1e"
      },
      "execution_count": 6,
      "outputs": [
        {
          "output_type": "stream",
          "name": "stdout",
          "text": [
            "5.0\n"
          ]
        }
      ]
    },
    {
      "cell_type": "code",
      "source": [
        "#7.\n",
        "print(3*1**3)"
      ],
      "metadata": {
        "id": "xEWEGdyk_Jdi"
      },
      "execution_count": null,
      "outputs": []
    },
    {
      "cell_type": "code",
      "source": [
        "#8.\n",
        "p,q=8,3\n",
        "p,q,p=p+1,q+5,p+10\n",
        "print(p,q)"
      ],
      "metadata": {
        "colab": {
          "base_uri": "https://localhost:8080/"
        },
        "id": "Vv7oN7CR_O48",
        "outputId": "0dd12013-8389-4756-ab9e-46651d0b0c8f"
      },
      "execution_count": 7,
      "outputs": [
        {
          "output_type": "stream",
          "name": "stdout",
          "text": [
            "18 8\n"
          ]
        }
      ]
    },
    {
      "cell_type": "code",
      "source": [
        "#9.\n",
        "print(16//3+3**3+15/4-9)"
      ],
      "metadata": {
        "colab": {
          "base_uri": "https://localhost:8080/"
        },
        "id": "-vXLli_7_YM4",
        "outputId": "fe4d10f2-086b-4cf0-9f41-bd160f2a8b56"
      },
      "execution_count": 8,
      "outputs": [
        {
          "output_type": "stream",
          "name": "stdout",
          "text": [
            "26.75\n"
          ]
        }
      ]
    },
    {
      "cell_type": "code",
      "source": [
        "#10.\n",
        "t=(2,4,(6,8,(10,12)),14)\n",
        "print(t[2][2][0]*t[0]+t[-1])"
      ],
      "metadata": {
        "colab": {
          "base_uri": "https://localhost:8080/"
        },
        "id": "m3uRXGcx_cLb",
        "outputId": "3a118d45-9a50-42b5-8643-eba6003c3ba3"
      },
      "execution_count": 9,
      "outputs": [
        {
          "output_type": "stream",
          "name": "stdout",
          "text": [
            "34\n"
          ]
        }
      ]
    },
    {
      "cell_type": "code",
      "source": [
        "#11.\n",
        "a = (5,(7,5,(1,2)),5,4)\n",
        "print(a.count(5))\n",
        "print(a[1][2])\n",
        "print(a * 3)\n",
        "print(len(a))\n",
        "b = (7,8,(4,5))\n",
        "print(a + b)\n"
      ],
      "metadata": {
        "colab": {
          "base_uri": "https://localhost:8080/"
        },
        "id": "2EWMcde8_gJi",
        "outputId": "ebc37422-2a3e-4465-f877-6d84b1706235"
      },
      "execution_count": 10,
      "outputs": [
        {
          "output_type": "stream",
          "name": "stdout",
          "text": [
            "2\n",
            "(1, 2)\n",
            "(5, (7, 5, (1, 2)), 5, 4, 5, (7, 5, (1, 2)), 5, 4, 5, (7, 5, (1, 2)), 5, 4)\n",
            "4\n",
            "(5, (7, 5, (1, 2)), 5, 4, 7, 8, (4, 5))\n"
          ]
        }
      ]
    },
    {
      "cell_type": "code",
      "source": [
        "#12.\n",
        "x = [3, 6, 9, 12, 15]\n",
        "y = x[::-1]\n",
        "print(y)\n",
        "print(y[1] + x[-3])\n",
        "\n"
      ],
      "metadata": {
        "colab": {
          "base_uri": "https://localhost:8080/"
        },
        "id": "2cl8VT4O_lnQ",
        "outputId": "cc718ed8-e79e-4ced-9868-97edeec7ad66"
      },
      "execution_count": 11,
      "outputs": [
        {
          "output_type": "stream",
          "name": "stdout",
          "text": [
            "[15, 12, 9, 6, 3]\n",
            "21\n"
          ]
        }
      ]
    },
    {
      "cell_type": "code",
      "source": [
        "#13.\n",
        "word = \"Whatever\"\n",
        "print(word[:3] + word[-1] + word[4:2:-1])"
      ],
      "metadata": {
        "colab": {
          "base_uri": "https://localhost:8080/"
        },
        "id": "HT_zFuEZ_pvW",
        "outputId": "a7d23b3e-644b-47ab-962b-49269ba6d685"
      },
      "execution_count": 12,
      "outputs": [
        {
          "output_type": "stream",
          "name": "stdout",
          "text": [
            "Wharet\n"
          ]
        }
      ]
    },
    {
      "cell_type": "code",
      "source": [
        "#14.\n",
        "nums = {3, 6, 9, 12}\n",
        "print(nums)\n",
        "nums.add(15)\n",
        "print(nums)\n",
        "nums.remove(6)\n",
        "print(nums)\n",
        "nums.update([18, 21])\n",
        "print(nums)\n",
        "nums.discard(99)\n",
        "print(nums)\n",
        "print(sum(nums))\n",
        ""
      ],
      "metadata": {
        "colab": {
          "base_uri": "https://localhost:8080/"
        },
        "id": "vlJ7c_nQ_t28",
        "outputId": "ed3511a3-8714-4a9b-fe22-09fe7cd95e5e"
      },
      "execution_count": 13,
      "outputs": [
        {
          "output_type": "stream",
          "name": "stdout",
          "text": [
            "{9, 3, 12, 6}\n",
            "{3, 6, 9, 12, 15}\n",
            "{3, 9, 12, 15}\n",
            "{3, 9, 12, 15, 18, 21}\n",
            "{3, 9, 12, 15, 18, 21}\n",
            "78\n"
          ]
        }
      ]
    },
    {
      "cell_type": "code",
      "source": [
        "#15.\n",
        "info = {\"name\": \"Sara\", \"age\": 18, \"state\": \"Kerala\"}\n",
        "info[\"age\"] += 4\n",
        "print(info)\n",
        "info[\"country\"] = \"India\"\n",
        "print(info)\n",
        "print(info.keys())\n",
        "print(info.get(\"state\", \"Unknown\"))"
      ],
      "metadata": {
        "colab": {
          "base_uri": "https://localhost:8080/"
        },
        "id": "EBFPYqPL_42a",
        "outputId": "5510ce6d-97de-4e4b-fdda-8457dff5a372"
      },
      "execution_count": 14,
      "outputs": [
        {
          "output_type": "stream",
          "name": "stdout",
          "text": [
            "{'name': 'Sara', 'age': 22, 'state': 'Kerala'}\n",
            "{'name': 'Sara', 'age': 22, 'state': 'Kerala', 'country': 'India'}\n",
            "dict_keys(['name', 'age', 'state', 'country'])\n",
            "Kerala\n"
          ]
        }
      ]
    },
    {
      "cell_type": "code",
      "source": [
        "#16.\n",
        "num_list = [5, 10, 15, 20, 25]\n",
        "res = list(map(lambda x: x % 3, num_list))\n",
        "print(res)\n",
        "\n"
      ],
      "metadata": {
        "colab": {
          "base_uri": "https://localhost:8080/"
        },
        "id": "VXwF98Vw_9hJ",
        "outputId": "507bd7df-8031-4b79-d25b-42b83a03fa51"
      },
      "execution_count": 15,
      "outputs": [
        {
          "output_type": "stream",
          "name": "stdout",
          "text": [
            "[2, 1, 0, 2, 1]\n"
          ]
        }
      ]
    },
    {
      "cell_type": "code",
      "source": [
        "#17.\n",
        "ages = [15, 22, 18, 30, 12, 40, 90]\n",
        "adults = list(filter(lambda x: x >= 18, ages))\n",
        "print(adults)\n",
        "print(len(adults))\n",
        ""
      ],
      "metadata": {
        "colab": {
          "base_uri": "https://localhost:8080/"
        },
        "id": "FO0TSqLuABf-",
        "outputId": "af6fbc04-a109-4d6b-8baf-01fd654f5ced"
      },
      "execution_count": 16,
      "outputs": [
        {
          "output_type": "stream",
          "name": "stdout",
          "text": [
            "[22, 18, 30, 40, 90]\n",
            "5\n"
          ]
        }
      ]
    },
    {
      "cell_type": "code",
      "source": [
        "#18.\n",
        "from functools import reduce\n",
        "nums = [1, 2, 3, 4, 5]\n",
        "result = reduce(lambda x, y: x * y, nums)\n",
        "print(result)\n",
        ""
      ],
      "metadata": {
        "colab": {
          "base_uri": "https://localhost:8080/"
        },
        "id": "W5yW8N_RAFNH",
        "outputId": "24721213-e4fe-4721-9536-7dff1dd5d659"
      },
      "execution_count": 17,
      "outputs": [
        {
          "output_type": "stream",
          "name": "stdout",
          "text": [
            "120\n"
          ]
        }
      ]
    },
    {
      "cell_type": "code",
      "source": [
        "#19.\n",
        "alpha = [\"a\", \"b\", \"c\", \"d\"]\n",
        "print(alpha.pop(2) + alpha[-1])\n",
        "print(alpha)\n",
        ""
      ],
      "metadata": {
        "colab": {
          "base_uri": "https://localhost:8080/"
        },
        "id": "xPUBAS_pAMf4",
        "outputId": "c763f47e-762c-4cfd-9279-d2c7b28df723"
      },
      "execution_count": 18,
      "outputs": [
        {
          "output_type": "stream",
          "name": "stdout",
          "text": [
            "cd\n",
            "['a', 'b', 'd']\n"
          ]
        }
      ]
    },
    {
      "cell_type": "code",
      "source": [
        "#20.\n",
        "x = 10\n",
        "y = 3\n",
        "x, y = x % y, x // y\n",
        "print(x, y)"
      ],
      "metadata": {
        "colab": {
          "base_uri": "https://localhost:8080/"
        },
        "id": "3R3GXPeTAQ7C",
        "outputId": "058d8c9c-2c1b-4f87-e304-5163aaeb4e7d"
      },
      "execution_count": 19,
      "outputs": [
        {
          "output_type": "stream",
          "name": "stdout",
          "text": [
            "1 3\n"
          ]
        }
      ]
    }
  ]
}